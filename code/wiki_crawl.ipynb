{
 "cells": [
  {
   "cell_type": "markdown",
   "id": "005eb022-ca17-44c7-80f3-b6902cce8b2c",
   "metadata": {},
   "source": [
    "### Wiki Crawl"
   ]
  },
  {
   "cell_type": "code",
   "execution_count": 1,
   "id": "58392445-dd04-48c1-8a67-1bf2ad075c0b",
   "metadata": {},
   "outputs": [
    {
     "name": "stdout",
     "output_type": "stream",
     "text": [
      "openai version:[1.3.7]\n"
     ]
    }
   ],
   "source": [
    "import openai\n",
    "from gpt_helper import GPTchatClass\n",
    "from wiki_helper import wiki_search\n",
    "from util import printmd\n",
    "print(\"openai version:[%s]\" % (openai.__version__))"
   ]
  },
  {
   "cell_type": "markdown",
   "id": "364b9ef2-f003-40eb-864f-91495ef96d3b",
   "metadata": {},
   "source": [
    "### Crawl Wikipedia"
   ]
  },
  {
   "cell_type": "code",
   "execution_count": 2,
   "id": "e1a930bb-cc23-41ed-8c4e-9b0e4b887e33",
   "metadata": {},
   "outputs": [
    {
     "name": "stdout",
     "output_type": "stream",
     "text": [
      "entity:[President of South Korea]\n"
     ]
    }
   ],
   "source": [
    "entity = \"President of South Korea\"\n",
    "print (\"entity:[%s]\"%(entity))"
   ]
  },
  {
   "cell_type": "code",
   "execution_count": 3,
   "id": "be6df20b-f435-4e08-9023-7ebd159f82ec",
   "metadata": {},
   "outputs": [
    {
     "name": "stdout",
     "output_type": "stream",
     "text": [
      "entity:[President of South Korea] matched.\n",
      " We have total [294] paragraphs.\n",
      " After filtering, we have [31] and [8] paragraphs returned (k:[5] and m:[3])\n"
     ]
    }
   ],
   "source": [
    "paragraphs_return = wiki_search(\n",
    "    entity                  = entity,\n",
    "    min_char_len            = 100,\n",
    "    first_k                 = 5,\n",
    "    top_m_excluding_first_k = 3,\n",
    "    VERBOSE                 = True,\n",
    ")"
   ]
  },
  {
   "cell_type": "markdown",
   "id": "11182a31-b413-482b-a14f-024695710e4f",
   "metadata": {},
   "source": [
    "### Summarize each paragraph with GPT"
   ]
  },
  {
   "cell_type": "code",
   "execution_count": 4,
   "id": "05f5fe27-b558-4a16-b910-f097d9a8c69c",
   "metadata": {},
   "outputs": [
    {
     "data": {
      "text/html": [
       "<pre style=\"white-space:pre;overflow-x:auto;line-height:normal;font-family:Menlo,'DejaVu Sans Mono',consolas,'Courier New',monospace\"><span style=\"color: #008080; text-decoration-color: #008080; font-weight: bold\">key_path:[../key/rilab_key.txt]</span>\n",
       "</pre>\n"
      ],
      "text/plain": [
       "\u001b[1;36mkey_path:\u001b[0m\u001b[1;36m[\u001b[0m\u001b[1;36m..\u001b[0m\u001b[1;36m/key/\u001b[0m\u001b[1;36mrilab_key.txt\u001b[0m\u001b[1;36m]\u001b[0m\n"
      ]
     },
     "metadata": {},
     "output_type": "display_data"
    },
    {
     "data": {
      "text/html": [
       "<pre style=\"white-space:pre;overflow-x:auto;line-height:normal;font-family:Menlo,'DejaVu Sans Mono',consolas,'Courier New',monospace\"><span style=\"color: #008080; text-decoration-color: #008080; font-weight: bold\">Chat agent using  initialized with the follow role:[Your are a helpful assistant summarizing infromation and </span>\n",
       "<span style=\"color: #008080; text-decoration-color: #008080; font-weight: bold\">answering user queries.]</span>\n",
       "</pre>\n"
      ],
      "text/plain": [
       "\u001b[1;36mChat agent using \u001b[0m\u001b[1;36m initialized with the follow role:\u001b[0m\u001b[1;36m[\u001b[0m\u001b[1;36mYour are a helpful assistant summarizing infromation and \u001b[0m\n",
       "\u001b[1;36manswering user queries.\u001b[0m\u001b[1;36m]\u001b[0m\n"
      ]
     },
     "metadata": {},
     "output_type": "display_data"
    }
   ],
   "source": [
    "# Instantiate GPT helper\n",
    "GPT = GPTchatClass(\n",
    "    gpt_model = \"gpt-4\",  # 'gpt-3.5-turbo' / 'gpt-4'\n",
    "    role_msg  = \"Your are a helpful assistant summarizing infromation and answering user queries.\",\n",
    "    key_path  = \"../key/rilab_key.txt\",\n",
    ")"
   ]
  },
  {
   "cell_type": "code",
   "execution_count": 5,
   "id": "61f7c38a-e789-4fe7-9e96-fb1ee0902517",
   "metadata": {},
   "outputs": [
    {
     "name": "stdout",
     "output_type": "stream",
     "text": [
      "\n",
      "[0/8] The president of the Republic of Korea (Korean: 대한민국 대통령; RR: Daehanmin-guk daetongnyeong), also known as the president of South Korea (Korean: 대통령), is the head of state and head of government of the Republic of Korea. The president leads the State Council, and is the chief of the executive branch of the national government as well as the commander-in-chief of the Republic of Korea Armed Forces. \n",
      " =>\n"
     ]
    },
    {
     "data": {
      "text/markdown": [
       "The President of the Republic of Korea, also known as the President of South Korea, is the head of state and government, leading the State Council, commanding the Republic of Korea Armed Forces, and is the chief of the executive branch of the national government."
      ],
      "text/plain": [
       "<IPython.core.display.Markdown object>"
      ]
     },
     "metadata": {},
     "output_type": "display_data"
    },
    {
     "name": "stdout",
     "output_type": "stream",
     "text": [
      "\n",
      "[1/8] The Constitution and the amended Presidential Election Act of 1987 provide for election of the president by direct, secret ballot, ending sixteen years of indirect presidential elections under the preceding two authoritarian governments. The president is directly elected to a five-year term, with no possibility of re-election.[2] If a presidential vacancy should occur, a successor must be elected within sixty days, during which time presidential duties are to be performed by the prime minister or other senior cabinet members in the order of priority as determined by law. The president is exempt from criminal liability (except for insurrection or treason). \n",
      " =>\n"
     ]
    },
    {
     "data": {
      "text/markdown": [
       "The Constitution and the Presidential Election Act of 1987 allow for the direct, secret ballot election of the South Korean president for a non-renewable five-year term, and in case of a vacancy, a successor must be elected within sixty days, while the president is immune from criminal liability, except for insurrection or treason."
      ],
      "text/plain": [
       "<IPython.core.display.Markdown object>"
      ]
     },
     "metadata": {},
     "output_type": "display_data"
    },
    {
     "name": "stdout",
     "output_type": "stream",
     "text": [
      "\n",
      "[2/8] The current president, Yoon Suk Yeol, a former prosecutor general and member of the conservative People Power Party, assumed office on 10 May 2022,[3][4] after defeating the Democratic Party's nominee Lee Jae-myung with a narrow 48.5% plurality in the 2022 South Korean presidential election.[5] \n",
      " =>\n"
     ]
    },
    {
     "data": {
      "text/markdown": [
       "Yoon Suk Yeol, a former prosecutor general and member of the conservative People Power Party, became the current president on 10 May 2022, after narrowly winning the 2022 South Korean presidential election against the Democratic Party's nominee Lee Jae-myung with a 48.5% plurality."
      ],
      "text/plain": [
       "<IPython.core.display.Markdown object>"
      ]
     },
     "metadata": {},
     "output_type": "display_data"
    },
    {
     "name": "stdout",
     "output_type": "stream",
     "text": [
      "\n",
      "[3/8] Prior to the establishment of the First Republic in 1948, the Provisional Government of the Republic of Korea established in Shanghai in September 1919 as the continuation of several governments proclaimed in the aftermath of March 1st Movement earlier that year coordinated resistance against Japanese rule. The legitimacy of the Provisional Government has been recognized and succeeded by South Korea in the latter's original Constitution of 1948 and the current Constitution of 1988. \n",
      " =>\n"
     ]
    },
    {
     "data": {
      "text/markdown": [
       "Before the First Republic's establishment in 1948, the Provisional Government of the Republic of Korea, formed in Shanghai in 1919 following the March 1st Movement, coordinated resistance against Japanese rule, a legitimacy acknowledged and succeeded by South Korea in its original 1948 Constitution and the current 1988 Constitution."
      ],
      "text/plain": [
       "<IPython.core.display.Markdown object>"
      ]
     },
     "metadata": {},
     "output_type": "display_data"
    },
    {
     "name": "stdout",
     "output_type": "stream",
     "text": [
      "\n",
      "[4/8] The presidential term has been set at five years since 1988. It was previously set at four years from 1948 to 1972, six years from 1972 to 1981, and seven years from 1981 to 1988. Since 1981, the president has been barred from re-election. \n",
      " =>\n"
     ]
    },
    {
     "data": {
      "text/markdown": [
       "The presidential term has been established at five years since 1988, following periods of four-year terms from 1948 to 1972, six years from 1972 to 1981, and seven years from 1981 to 1988, with re-election prohibited since 1981."
      ],
      "text/plain": [
       "<IPython.core.display.Markdown object>"
      ]
     },
     "metadata": {},
     "output_type": "display_data"
    },
    {
     "name": "stdout",
     "output_type": "stream",
     "text": [
      "\n",
      "[5/8] The 1987 Constitution removed the 1980 Constitution's explicit provisions that empowered the government to temporarily suspend the freedoms and rights of the people. However, the president is permitted to take other measures that could amend or abolish existing laws for the duration of a crisis. It is unclear whether such emergency measures could temporarily suspend portions of the Constitution itself. Emergency measures must be referred to the National Assembly for concurrence. If not endorsed by the assembly, the emergency measures can be revoked; any laws that had been overridden by presidential order regain their original effect. In this respect, the power of the legislature is more vigorously asserted than in cases of ratification of treaties or declarations of war, in which the Constitution simply states that the National Assembly \"has the right to consent\" to the president's actions. In a change from the 1980 Constitution, the 1987 Constitution stated that the president is not permitted to dissolve the National Assembly. \n",
      " =>\n"
     ]
    },
    {
     "data": {
      "text/markdown": [
       "The 1987 Constitution removed previous provisions allowing the government to suspend people's freedoms and rights, but the president can still make changes to laws during a crisis, with emergency measures subject to the National Assembly's agreement, and unlike the 1980 Constitution, the president cannot dissolve the National Assembly."
      ],
      "text/plain": [
       "<IPython.core.display.Markdown object>"
      ]
     },
     "metadata": {},
     "output_type": "display_data"
    },
    {
     "name": "stdout",
     "output_type": "stream",
     "text": [
      "\n",
      "[6/8] These constitutional organs included the National Security Council, which provided advice concerning the foreign, military, and domestic policies bearing on national security. Chaired by the president, the council in 1990 had as its statutory members the prime minister, the deputy prime minister, the ministers for foreign affairs, home affairs, finance, and national defense, the director of the Agency for National Security Planning (ANSP) which was known as the Korean Central Intelligence Agency (KCIA) until December 1980, and others designated by the president. Another important body is the Peaceful Unification Advisory Council, inaugurated in June 1981 under the chairmanship of the president. From its inception, this body had no policy role, but rather appeared to serve as a government sounding board and as a means to disburse political rewards by providing large numbers of dignitaries and others with titles and opportunities to meet periodically with the president and other senior officials. \n",
      " =>\n"
     ]
    },
    {
     "data": {
      "text/markdown": [
       "The National Security Council and Peaceful Unification Advisory Council are key constitutional bodies in South Korea, with the former advising on foreign, military, and domestic policies related to national security and consisting of members including the president, prime minister, and other key ministers, while the latter, chaired by the president since its inception in 1981, serves as a sounding board and a platform to reward dignitaries with titles and frequent interaction with top officials.\n"
      ],
      "text/plain": [
       "<IPython.core.display.Markdown object>"
      ]
     },
     "metadata": {},
     "output_type": "display_data"
    },
    {
     "name": "stdout",
     "output_type": "stream",
     "text": [
      "\n",
      "[7/8] One controversial constitutional organ was the Advisory Council of Elder Statesmen, which replaced a smaller body in February 1988, just before Roh Tae Woo was sworn in as president. This body was supposed to be chaired by the immediate former president; its expansion to eighty members, broadened functions, and elevation to cabinet rank made it appear to have been designed, as one Seoul newspaper said, to \"preserve the status and position of a certain individual.\" The government announced plans to reduce the size and functions of this body immediately after Roh's inauguration. Public suspicions that the council might provide former President Chun with a power base within the Sixth Republic were rendered moot when Chun withdrew to an isolated Buddhist temple in self-imposed exile in November 1988. \n",
      " =>\n"
     ]
    },
    {
     "data": {
      "text/markdown": [
       "The Advisory Council of Elder Statesmen, controversially expanded to eighty members and elevated to cabinet rank just before President Roh Tae Woo's inauguration in February 1988, was perceived as a tool to preserve an individual's status, but public suspicions of it being a power base for ex-President Chun vanished when Chun entered self-imposed exile in a Buddhist temple in November 1988."
      ],
      "text/plain": [
       "<IPython.core.display.Markdown object>"
      ]
     },
     "metadata": {},
     "output_type": "display_data"
    }
   ],
   "source": [
    "for p_idx,p in enumerate(paragraphs_return):\n",
    "    user_msg = \"Could you summarize the following paragraph into one setence? \\n \"+p\n",
    "    response_content = GPT.chat(\n",
    "        user_msg=user_msg,PRINT_USER_MSG=False,PRINT_GPT_OUTPUT=False,\n",
    "        RESET_CHAT=True,RETURN_RESPONSE=True) # Note that 'RESET_CHAT' is True\n",
    "    # Print summarized sentence with a markdown format\n",
    "    print(\"\\n[%d/%d] %s \\n =>\"%(p_idx,len(paragraphs_return),p))\n",
    "    printmd(response_content)"
   ]
  },
  {
   "cell_type": "code",
   "execution_count": null,
   "id": "383a16b2-956e-4be8-b6e6-a3b71f4a0a54",
   "metadata": {},
   "outputs": [],
   "source": []
  }
 ],
 "metadata": {
  "kernelspec": {
   "display_name": "Python 3 (ipykernel)",
   "language": "python",
   "name": "python3"
  },
  "language_info": {
   "codemirror_mode": {
    "name": "ipython",
    "version": 3
   },
   "file_extension": ".py",
   "mimetype": "text/x-python",
   "name": "python",
   "nbconvert_exporter": "python",
   "pygments_lexer": "ipython3",
   "version": "3.9.16"
  }
 },
 "nbformat": 4,
 "nbformat_minor": 5
}
