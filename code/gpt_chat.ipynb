{
 "cells": [
  {
   "cell_type": "markdown",
   "id": "abc577d6-645b-4697-b1b4-a8b7225320e6",
   "metadata": {},
   "source": [
    "### Chat with `GPT`"
   ]
  },
  {
   "cell_type": "code",
   "execution_count": 6,
   "id": "d751d66c-7fde-470d-b624-e83eb4fa121c",
   "metadata": {},
   "outputs": [
    {
     "name": "stdout",
     "output_type": "stream",
     "text": [
      "openai version:[1.13.3]\n"
     ]
    }
   ],
   "source": [
    "import openai\n",
    "from gpt_helper import GPTchatClass\n",
    "from wiki_helper import wiki_search\n",
    "from util import printmd, extract_quoted_words\n",
    "print(\"openai version:[%s]\" % (openai.__version__))"
   ]
  },
  {
   "cell_type": "code",
   "execution_count": 7,
   "id": "75fea7a9-422c-4a42-be9f-63db9d33d33c",
   "metadata": {},
   "outputs": [
    {
     "data": {
      "text/html": [
       "<pre style=\"white-space:pre;overflow-x:auto;line-height:normal;font-family:Menlo,'DejaVu Sans Mono',consolas,'Courier New',monospace\"><span style=\"color: #008080; text-decoration-color: #008080; font-weight: bold\">key_path:[../key/rilab_key.txt]</span>\n",
       "</pre>\n"
      ],
      "text/plain": [
       "\u001b[1;36mkey_path:\u001b[0m\u001b[1;36m[\u001b[0m\u001b[1;36m..\u001b[0m\u001b[1;36m/key/\u001b[0m\u001b[1;36mrilab_key.txt\u001b[0m\u001b[1;36m]\u001b[0m\n"
      ]
     },
     "metadata": {},
     "output_type": "display_data"
    },
    {
     "data": {
      "text/html": [
       "<pre style=\"white-space:pre;overflow-x:auto;line-height:normal;font-family:Menlo,'DejaVu Sans Mono',consolas,'Courier New',monospace\"><span style=\"color: #008080; text-decoration-color: #008080; font-weight: bold\">Chat agent using  initialized with the follow role:[Your are a helpful assistant summarizing infromation and </span>\n",
       "<span style=\"color: #008080; text-decoration-color: #008080; font-weight: bold\">answering user queries.]</span>\n",
       "</pre>\n"
      ],
      "text/plain": [
       "\u001b[1;36mChat agent using \u001b[0m\u001b[1;36m initialized with the follow role:\u001b[0m\u001b[1;36m[\u001b[0m\u001b[1;36mYour are a helpful assistant summarizing infromation and \u001b[0m\n",
       "\u001b[1;36manswering user queries.\u001b[0m\u001b[1;36m]\u001b[0m\n"
      ]
     },
     "metadata": {},
     "output_type": "display_data"
    }
   ],
   "source": [
    "# Instantiate GPT helper\n",
    "GPT = GPTchatClass(\n",
    "    gpt_model = \"gpt-4-turbo\",  # 'gpt-3.5-turbo' / 'gpt-4' / 'gpt-4-turbo'\n",
    "    role_msg  = \"Your are a helpful assistant summarizing infromation and answering user queries.\",\n",
    "    key_path  = \"../key/rilab_key.txt\",\n",
    ")"
   ]
  },
  {
   "cell_type": "code",
   "execution_count": 8,
   "id": "83b18220-2e49-473e-9d3e-71d60d432bb3",
   "metadata": {},
   "outputs": [
    {
     "data": {
      "text/html": [
       "<pre style=\"white-space:pre;overflow-x:auto;line-height:normal;font-family:Menlo,'DejaVu Sans Mono',consolas,'Courier New',monospace\"><span style=\"color: #0087d7; text-decoration-color: #0087d7; font-weight: bold\">[</span><span style=\"color: #0087d7; text-decoration-color: #0087d7\">USER_MSG</span><span style=\"color: #0087d7; text-decoration-color: #0087d7; font-weight: bold\">]</span>\n",
       "</pre>\n"
      ],
      "text/plain": [
       "\u001b[1;38;5;32m[\u001b[0m\u001b[38;5;32mUSER_MSG\u001b[0m\u001b[1;38;5;32m]\u001b[0m\n"
      ]
     },
     "metadata": {},
     "output_type": "display_data"
    },
    {
     "data": {
      "text/markdown": [
       "Who is the current president of Korea?"
      ],
      "text/plain": [
       "<IPython.core.display.Markdown object>"
      ]
     },
     "metadata": {},
     "output_type": "display_data"
    },
    {
     "data": {
      "text/html": [
       "<pre style=\"white-space:pre;overflow-x:auto;line-height:normal;font-family:Menlo,'DejaVu Sans Mono',consolas,'Courier New',monospace\"><span style=\"color: #00875f; text-decoration-color: #00875f; font-weight: bold\">[</span><span style=\"color: #00875f; text-decoration-color: #00875f\">GPT_OUTPUT</span><span style=\"color: #00875f; text-decoration-color: #00875f; font-weight: bold\">]</span>\n",
       "</pre>\n"
      ],
      "text/plain": [
       "\u001b[1;38;5;29m[\u001b[0m\u001b[38;5;29mGPT_OUTPUT\u001b[0m\u001b[1;38;5;29m]\u001b[0m\n"
      ]
     },
     "metadata": {},
     "output_type": "display_data"
    },
    {
     "data": {
      "text/markdown": [
       "As of my last update in 2023, the current President of South Korea is Yoon Suk-yeol. He assumed office on May 10, 2022. Yoon is a member of the People Power Party and was previously the Prosecutor General of South Korea. Keep in mind that updates or changes might occur, so it's recommended to check the latest sources for the most recent information."
      ],
      "text/plain": [
       "<IPython.core.display.Markdown object>"
      ]
     },
     "metadata": {},
     "output_type": "display_data"
    },
    {
     "data": {
      "text/html": [
       "<pre style=\"white-space:pre;overflow-x:auto;line-height:normal;font-family:Menlo,'DejaVu Sans Mono',consolas,'Courier New',monospace\"><span style=\"color: #0087d7; text-decoration-color: #0087d7; font-weight: bold\">[</span><span style=\"color: #0087d7; text-decoration-color: #0087d7\">USER_MSG</span><span style=\"color: #0087d7; text-decoration-color: #0087d7; font-weight: bold\">]</span>\n",
       "</pre>\n"
      ],
      "text/plain": [
       "\u001b[1;38;5;32m[\u001b[0m\u001b[38;5;32mUSER_MSG\u001b[0m\u001b[1;38;5;32m]\u001b[0m\n"
      ]
     },
     "metadata": {},
     "output_type": "display_data"
    },
    {
     "data": {
      "text/markdown": [
       "Are you sure? I think you are outdated."
      ],
      "text/plain": [
       "<IPython.core.display.Markdown object>"
      ]
     },
     "metadata": {},
     "output_type": "display_data"
    },
    {
     "data": {
      "text/html": [
       "<pre style=\"white-space:pre;overflow-x:auto;line-height:normal;font-family:Menlo,'DejaVu Sans Mono',consolas,'Courier New',monospace\"><span style=\"color: #00875f; text-decoration-color: #00875f; font-weight: bold\">[</span><span style=\"color: #00875f; text-decoration-color: #00875f\">GPT_OUTPUT</span><span style=\"color: #00875f; text-decoration-color: #00875f; font-weight: bold\">]</span>\n",
       "</pre>\n"
      ],
      "text/plain": [
       "\u001b[1;38;5;29m[\u001b[0m\u001b[38;5;29mGPT_OUTPUT\u001b[0m\u001b[1;38;5;29m]\u001b[0m\n"
      ]
     },
     "metadata": {},
     "output_type": "display_data"
    },
    {
     "data": {
      "text/markdown": [
       "I apologize if there has been any confusion. To clarify, I provided information based on the most recent data available to me up to early 2023. If there have been changes since then, such as a new election or any other political developments, I recommend checking the latest reliable news sources or the official government website of South Korea for the most current information regarding the presidency."
      ],
      "text/plain": [
       "<IPython.core.display.Markdown object>"
      ]
     },
     "metadata": {},
     "output_type": "display_data"
    },
    {
     "data": {
      "text/html": [
       "<pre style=\"white-space:pre;overflow-x:auto;line-height:normal;font-family:Menlo,'DejaVu Sans Mono',consolas,'Courier New',monospace\"><span style=\"color: #0087d7; text-decoration-color: #0087d7; font-weight: bold\">[</span><span style=\"color: #0087d7; text-decoration-color: #0087d7\">USER_MSG</span><span style=\"color: #0087d7; text-decoration-color: #0087d7; font-weight: bold\">]</span>\n",
       "</pre>\n"
      ],
      "text/plain": [
       "\u001b[1;38;5;32m[\u001b[0m\u001b[38;5;32mUSER_MSG\u001b[0m\u001b[1;38;5;32m]\u001b[0m\n"
      ]
     },
     "metadata": {},
     "output_type": "display_data"
    },
    {
     "data": {
      "text/markdown": [
       "Where can I get the latest information?"
      ],
      "text/plain": [
       "<IPython.core.display.Markdown object>"
      ]
     },
     "metadata": {},
     "output_type": "display_data"
    },
    {
     "data": {
      "text/html": [
       "<pre style=\"white-space:pre;overflow-x:auto;line-height:normal;font-family:Menlo,'DejaVu Sans Mono',consolas,'Courier New',monospace\"><span style=\"color: #00875f; text-decoration-color: #00875f; font-weight: bold\">[</span><span style=\"color: #00875f; text-decoration-color: #00875f\">GPT_OUTPUT</span><span style=\"color: #00875f; text-decoration-color: #00875f; font-weight: bold\">]</span>\n",
       "</pre>\n"
      ],
      "text/plain": [
       "\u001b[1;38;5;29m[\u001b[0m\u001b[38;5;29mGPT_OUTPUT\u001b[0m\u001b[1;38;5;29m]\u001b[0m\n"
      ]
     },
     "metadata": {},
     "output_type": "display_data"
    },
    {
     "data": {
      "text/markdown": [
       "To obtain the most current and reliable information about the President of South Korea or any other updates, you can explore several sources:\n",
       "\n",
       "1. **Official Government Websites**: The official website of the President of South Korea or the South Korean government's main portal often provides the latest and most accurate information.\n",
       "\n",
       "2. **News Outlets**: Reputable news organizations such as the BBC, CNN, The New York Times, and local South Korean news outlets like Yonhap News Agency and Korea Herald can be trusted for up-to-date news.\n",
       "\n",
       "3. **Social Media**: Following official government and news outlet social media accounts can also provide timely updates.\n",
       "\n",
       "4. **Embassies**: Contacting the South Korean embassy or consulate in your country can also be a source of official information.\n",
       "\n",
       "These sources should help you find reliable and current information regarding the president of South Korea or any other political developments."
      ],
      "text/plain": [
       "<IPython.core.display.Markdown object>"
      ]
     },
     "metadata": {},
     "output_type": "display_data"
    }
   ],
   "source": [
    "PRINT_USER_MSG   = True\n",
    "PRINT_GPT_OUTPUT = True\n",
    "RESET_CHAT       = False\n",
    "RETURN_RESPONSE  = False\n",
    "GPT.chat(\n",
    "    user_msg         = \"Who is the current president of Korea?\",\n",
    "    PRINT_USER_MSG   = PRINT_USER_MSG,\n",
    "    PRINT_GPT_OUTPUT = PRINT_GPT_OUTPUT,\n",
    "    RESET_CHAT       = RESET_CHAT,\n",
    "    RETURN_RESPONSE  = RETURN_RESPONSE,\n",
    ")\n",
    "GPT.chat(\n",
    "    user_msg         = \"Are you sure? I think you are outdated.\",\n",
    "    PRINT_USER_MSG   = PRINT_USER_MSG,\n",
    "    PRINT_GPT_OUTPUT = PRINT_GPT_OUTPUT,\n",
    "    RESET_CHAT       = RESET_CHAT,\n",
    "    RETURN_RESPONSE  = RETURN_RESPONSE,\n",
    ")\n",
    "GPT.chat(\n",
    "    user_msg         = \"Where can I get the latest information?\",\n",
    "    PRINT_USER_MSG   = PRINT_USER_MSG,\n",
    "    PRINT_GPT_OUTPUT = PRINT_GPT_OUTPUT,\n",
    "    RESET_CHAT       = RESET_CHAT,\n",
    "    RETURN_RESPONSE  = RETURN_RESPONSE,\n",
    ")"
   ]
  },
  {
   "cell_type": "markdown",
   "id": "055806b3-e1db-422d-bc2a-d1fd61503b79",
   "metadata": {},
   "source": [
    "### 한국어로 대답을 해볼까?"
   ]
  },
  {
   "cell_type": "code",
   "execution_count": 4,
   "id": "dbb3a667-5480-47d8-a163-2c9e38dcb186",
   "metadata": {},
   "outputs": [],
   "source": [
    "GPT.reset(\n",
    "    role_msg = \n",
    "    \"\"\"\n",
    "    Your are a helpful assistant \n",
    "    대신 한국어로 대답을 해주면 좋겠습니다. \n",
    "    \"\"\"\n",
    ")"
   ]
  },
  {
   "cell_type": "code",
   "execution_count": 5,
   "id": "6bd16c36-9f15-40e1-a14c-c429855a72a1",
   "metadata": {},
   "outputs": [
    {
     "data": {
      "text/html": [
       "<pre style=\"white-space:pre;overflow-x:auto;line-height:normal;font-family:Menlo,'DejaVu Sans Mono',consolas,'Courier New',monospace\"><span style=\"color: #0087d7; text-decoration-color: #0087d7; font-weight: bold\">[</span><span style=\"color: #0087d7; text-decoration-color: #0087d7\">USER_MSG</span><span style=\"color: #0087d7; text-decoration-color: #0087d7; font-weight: bold\">]</span>\n",
       "</pre>\n"
      ],
      "text/plain": [
       "\u001b[1;38;5;32m[\u001b[0m\u001b[38;5;32mUSER_MSG\u001b[0m\u001b[1;38;5;32m]\u001b[0m\n"
      ]
     },
     "metadata": {},
     "output_type": "display_data"
    },
    {
     "data": {
      "text/markdown": [
       "How's today's weather?"
      ],
      "text/plain": [
       "<IPython.core.display.Markdown object>"
      ]
     },
     "metadata": {},
     "output_type": "display_data"
    },
    {
     "data": {
      "text/html": [
       "<pre style=\"white-space:pre;overflow-x:auto;line-height:normal;font-family:Menlo,'DejaVu Sans Mono',consolas,'Courier New',monospace\"><span style=\"color: #00875f; text-decoration-color: #00875f; font-weight: bold\">[</span><span style=\"color: #00875f; text-decoration-color: #00875f\">GPT_OUTPUT</span><span style=\"color: #00875f; text-decoration-color: #00875f; font-weight: bold\">]</span>\n",
       "</pre>\n"
      ],
      "text/plain": [
       "\u001b[1;38;5;29m[\u001b[0m\u001b[38;5;29mGPT_OUTPUT\u001b[0m\u001b[1;38;5;29m]\u001b[0m\n"
      ]
     },
     "metadata": {},
     "output_type": "display_data"
    },
    {
     "data": {
      "text/markdown": [
       "죄송합니다, 저는 실시간 정보를 제공할 수 없습니다. 현재 날씨 정보를 얻으려면 귀하의 지역 날씨를 온라인으로 검색해 주세요."
      ],
      "text/plain": [
       "<IPython.core.display.Markdown object>"
      ]
     },
     "metadata": {},
     "output_type": "display_data"
    }
   ],
   "source": [
    "GPT.chat(\n",
    "    user_msg         = \"How's today's weather?\",\n",
    "    PRINT_USER_MSG   = True,\n",
    "    PRINT_GPT_OUTPUT = True,\n",
    "    RESET_CHAT       = False,\n",
    "    RETURN_RESPONSE  = False,\n",
    ")"
   ]
  },
  {
   "cell_type": "code",
   "execution_count": null,
   "id": "c4705a84-8792-40b4-b01b-2cd4459c216b",
   "metadata": {},
   "outputs": [],
   "source": []
  }
 ],
 "metadata": {
  "kernelspec": {
   "display_name": "Python 3 (ipykernel)",
   "language": "python",
   "name": "python3"
  },
  "language_info": {
   "codemirror_mode": {
    "name": "ipython",
    "version": 3
   },
   "file_extension": ".py",
   "mimetype": "text/x-python",
   "name": "python",
   "nbconvert_exporter": "python",
   "pygments_lexer": "ipython3",
   "version": "3.9.18"
  }
 },
 "nbformat": 4,
 "nbformat_minor": 5
}
