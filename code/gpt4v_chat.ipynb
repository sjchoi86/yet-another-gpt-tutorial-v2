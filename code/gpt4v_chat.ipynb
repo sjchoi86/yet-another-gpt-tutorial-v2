{
 "cells": [
  {
   "cell_type": "markdown",
   "id": "13d89f04-bc1f-4a4d-9365-acb6fec0ac6b",
   "metadata": {},
   "source": [
    "### Chat with `GPT4V`"
   ]
  },
  {
   "cell_type": "code",
   "execution_count": 1,
   "id": "84fc2474-b8bd-4092-99aa-b03868501e96",
   "metadata": {},
   "outputs": [
    {
     "name": "stdout",
     "output_type": "stream",
     "text": [
      "openai version:[1.13.3]\n"
     ]
    }
   ],
   "source": [
    "import openai\n",
    "from gpt_helper import GPT4VchatClass\n",
    "print(\"openai version:[%s]\" % (openai.__version__))"
   ]
  },
  {
   "cell_type": "code",
   "execution_count": 2,
   "id": "b363ac68-059f-4c60-aba6-a8d5027bdb62",
   "metadata": {},
   "outputs": [
    {
     "data": {
      "text/html": [
       "<pre style=\"white-space:pre;overflow-x:auto;line-height:normal;font-family:Menlo,'DejaVu Sans Mono',consolas,'Courier New',monospace\"><span style=\"color: #008080; text-decoration-color: #008080; font-weight: bold\">key_path:[../key/rilab_key.txt]</span>\n",
       "</pre>\n"
      ],
      "text/plain": [
       "\u001b[1;36mkey_path:\u001b[0m\u001b[1;36m[\u001b[0m\u001b[1;36m..\u001b[0m\u001b[1;36m/key/\u001b[0m\u001b[1;36mrilab_key.txt\u001b[0m\u001b[1;36m]\u001b[0m\n"
      ]
     },
     "metadata": {},
     "output_type": "display_data"
    },
    {
     "data": {
      "text/html": [
       "<pre style=\"white-space:pre;overflow-x:auto;line-height:normal;font-family:Menlo,'DejaVu Sans Mono',consolas,'Courier New',monospace\"><span style=\"color: #008080; text-decoration-color: #008080; font-weight: bold\">Chat agent using  initialized with the follow role:[You are a helpful agent with vision capabilities; do not </span>\n",
       "<span style=\"color: #008080; text-decoration-color: #008080; font-weight: bold\">respond to objects not depicted in images.]</span>\n",
       "</pre>\n"
      ],
      "text/plain": [
       "\u001b[1;36mChat agent using \u001b[0m\u001b[1;36m initialized with the follow role:\u001b[0m\u001b[1;36m[\u001b[0m\u001b[1;36mYou are a helpful agent with vision capabilities; do not \u001b[0m\n",
       "\u001b[1;36mrespond to objects not depicted in images.\u001b[0m\u001b[1;36m]\u001b[0m\n"
      ]
     },
     "metadata": {},
     "output_type": "display_data"
    }
   ],
   "source": [
    "# Instantiate GPT4V helper\n",
    "GPT = GPT4VchatClass(\n",
    "    gpt_model = \"gpt-4-vision-preview\",\n",
    "    role_msg  = \"You are a helpful agent with vision capabilities; do not respond to objects not depicted in images.\",\n",
    "    key_path  = \"../key/rilab_key.txt\",\n",
    ")"
   ]
  },
  {
   "cell_type": "markdown",
   "id": "ddbbae7a-aba9-45af-b494-862f753a4c37",
   "metadata": {},
   "source": [
    "cat image\n",
    "\n",
    "<img src=\"../img/cat.png\" width=\"300\" />"
   ]
  },
  {
   "cell_type": "code",
   "execution_count": 3,
   "id": "9176daf3-c6bd-4cf6-a4bd-10a06eb4f502",
   "metadata": {},
   "outputs": [
    {
     "data": {
      "text/html": [
       "<pre style=\"white-space:pre;overflow-x:auto;line-height:normal;font-family:Menlo,'DejaVu Sans Mono',consolas,'Courier New',monospace\"><span style=\"color: #0087d7; text-decoration-color: #0087d7; font-weight: bold\">[</span><span style=\"color: #0087d7; text-decoration-color: #0087d7\">USER_MSG</span><span style=\"color: #0087d7; text-decoration-color: #0087d7; font-weight: bold\">]</span>\n",
       "</pre>\n"
      ],
      "text/plain": [
       "\u001b[1;38;5;32m[\u001b[0m\u001b[38;5;32mUSER_MSG\u001b[0m\u001b[1;38;5;32m]\u001b[0m\n"
      ]
     },
     "metadata": {},
     "output_type": "display_data"
    },
    {
     "data": {
      "text/markdown": [
       "<img1> Describe the image."
      ],
      "text/plain": [
       "<IPython.core.display.Markdown object>"
      ]
     },
     "metadata": {},
     "output_type": "display_data"
    },
    {
     "data": {
      "text/html": [
       "<pre style=\"white-space:pre;overflow-x:auto;line-height:normal;font-family:Menlo,'DejaVu Sans Mono',consolas,'Courier New',monospace\"><span style=\"color: #00875f; text-decoration-color: #00875f; font-weight: bold\">[</span><span style=\"color: #00875f; text-decoration-color: #00875f\">GPT_OUTPUT</span><span style=\"color: #00875f; text-decoration-color: #00875f; font-weight: bold\">]</span>\n",
       "</pre>\n"
      ],
      "text/plain": [
       "\u001b[1;38;5;29m[\u001b[0m\u001b[38;5;29mGPT_OUTPUT\u001b[0m\u001b[1;38;5;29m]\u001b[0m\n"
      ]
     },
     "metadata": {},
     "output_type": "display_data"
    },
    {
     "data": {
      "text/markdown": [
       "The image shows a golden-brown and white kitten with a fluffy coat and striking tabby markings around its eyes that resemble eyeliner. The kitten appears to be standing on its hind legs with one front paw raised as if it is reaching for something or playing. It has a thoughtful or curious expression on its face, and its eyes are looking upwards towards the direction of the raised paw. The background is a simple, light blue, providing a clear and uncluttered backdrop that contrasts nicely with the kitten's fur."
      ],
      "text/plain": [
       "<IPython.core.display.Markdown object>"
      ]
     },
     "metadata": {},
     "output_type": "display_data"
    }
   ],
   "source": [
    "PRINT_USER_MSG   = True\n",
    "PRINT_GPT_OUTPUT = True\n",
    "RESET_CHAT       = False\n",
    "RETURN_RESPONSE  = False\n",
    "GPT.chat(\n",
    "    user_msg=\"<img1> Describe the image.\",\n",
    "    images=[\"../img/cat.png\"],\n",
    "    PRINT_USER_MSG=PRINT_USER_MSG,\n",
    "    PRINT_GPT_OUTPUT=PRINT_GPT_OUTPUT,\n",
    "    RESET_CHAT=RESET_CHAT,\n",
    "    RETURN_RESPONSE=RETURN_RESPONSE,\n",
    "    MAX_TOKENS = 256,\n",
    ")"
   ]
  },
  {
   "cell_type": "code",
   "execution_count": 4,
   "id": "93a061a0-7bbb-4ed0-ac8d-78af4e3d53b2",
   "metadata": {},
   "outputs": [
    {
     "data": {
      "text/html": [
       "<pre style=\"white-space:pre;overflow-x:auto;line-height:normal;font-family:Menlo,'DejaVu Sans Mono',consolas,'Courier New',monospace\"><span style=\"color: #0087d7; text-decoration-color: #0087d7; font-weight: bold\">[</span><span style=\"color: #0087d7; text-decoration-color: #0087d7\">USER_MSG</span><span style=\"color: #0087d7; text-decoration-color: #0087d7; font-weight: bold\">]</span>\n",
       "</pre>\n"
      ],
      "text/plain": [
       "\u001b[1;38;5;32m[\u001b[0m\u001b[38;5;32mUSER_MSG\u001b[0m\u001b[1;38;5;32m]\u001b[0m\n"
      ]
     },
     "metadata": {},
     "output_type": "display_data"
    },
    {
     "data": {
      "text/markdown": [
       "What is the color of the background?"
      ],
      "text/plain": [
       "<IPython.core.display.Markdown object>"
      ]
     },
     "metadata": {},
     "output_type": "display_data"
    },
    {
     "data": {
      "text/html": [
       "<pre style=\"white-space:pre;overflow-x:auto;line-height:normal;font-family:Menlo,'DejaVu Sans Mono',consolas,'Courier New',monospace\"><span style=\"color: #00875f; text-decoration-color: #00875f; font-weight: bold\">[</span><span style=\"color: #00875f; text-decoration-color: #00875f\">GPT_OUTPUT</span><span style=\"color: #00875f; text-decoration-color: #00875f; font-weight: bold\">]</span>\n",
       "</pre>\n"
      ],
      "text/plain": [
       "\u001b[1;38;5;29m[\u001b[0m\u001b[38;5;29mGPT_OUTPUT\u001b[0m\u001b[1;38;5;29m]\u001b[0m\n"
      ]
     },
     "metadata": {},
     "output_type": "display_data"
    },
    {
     "data": {
      "text/markdown": [
       "The color of the background is light blue."
      ],
      "text/plain": [
       "<IPython.core.display.Markdown object>"
      ]
     },
     "metadata": {},
     "output_type": "display_data"
    }
   ],
   "source": [
    "GPT.chat(\n",
    "    user_msg=\"What is the color of the background?\",\n",
    "    images=None,\n",
    "    PRINT_USER_MSG=PRINT_USER_MSG,\n",
    "    PRINT_GPT_OUTPUT=PRINT_GPT_OUTPUT,\n",
    "    RESET_CHAT=RESET_CHAT,\n",
    "    RETURN_RESPONSE=RETURN_RESPONSE,\n",
    "    MAX_TOKENS = 256,\n",
    ")"
   ]
  },
  {
   "cell_type": "markdown",
   "id": "dc52ffca-90bd-4f98-ab90-3a5e1215719c",
   "metadata": {},
   "source": [
    "cat image\n",
    "\n",
    "<img src=\"../img/dog.png\" width=\"300\" />"
   ]
  },
  {
   "cell_type": "code",
   "execution_count": 5,
   "id": "6b968897-3ee3-417a-968d-fae4a662c856",
   "metadata": {},
   "outputs": [
    {
     "data": {
      "text/html": [
       "<pre style=\"white-space:pre;overflow-x:auto;line-height:normal;font-family:Menlo,'DejaVu Sans Mono',consolas,'Courier New',monospace\"><span style=\"color: #0087d7; text-decoration-color: #0087d7; font-weight: bold\">[</span><span style=\"color: #0087d7; text-decoration-color: #0087d7\">USER_MSG</span><span style=\"color: #0087d7; text-decoration-color: #0087d7; font-weight: bold\">]</span>\n",
       "</pre>\n"
      ],
      "text/plain": [
       "\u001b[1;38;5;32m[\u001b[0m\u001b[38;5;32mUSER_MSG\u001b[0m\u001b[1;38;5;32m]\u001b[0m\n"
      ]
     },
     "metadata": {},
     "output_type": "display_data"
    },
    {
     "data": {
      "text/markdown": [
       "<img1> What is the main difference between this image and the previous images?"
      ],
      "text/plain": [
       "<IPython.core.display.Markdown object>"
      ]
     },
     "metadata": {},
     "output_type": "display_data"
    },
    {
     "data": {
      "text/html": [
       "<pre style=\"white-space:pre;overflow-x:auto;line-height:normal;font-family:Menlo,'DejaVu Sans Mono',consolas,'Courier New',monospace\"><span style=\"color: #00875f; text-decoration-color: #00875f; font-weight: bold\">[</span><span style=\"color: #00875f; text-decoration-color: #00875f\">GPT_OUTPUT</span><span style=\"color: #00875f; text-decoration-color: #00875f; font-weight: bold\">]</span>\n",
       "</pre>\n"
      ],
      "text/plain": [
       "\u001b[1;38;5;29m[\u001b[0m\u001b[38;5;29mGPT_OUTPUT\u001b[0m\u001b[1;38;5;29m]\u001b[0m\n"
      ]
     },
     "metadata": {},
     "output_type": "display_data"
    },
    {
     "data": {
      "text/markdown": [
       "The main difference between this image and the previous one is the subject. The current image contains a dog, whereas the previous image featured a cat. This dog has a black and tan face with a white patch on its nose and forehead, and pointed ears. The background is a pale pink color, contrasting with the light blue background in the image of the cat."
      ],
      "text/plain": [
       "<IPython.core.display.Markdown object>"
      ]
     },
     "metadata": {},
     "output_type": "display_data"
    }
   ],
   "source": [
    "GPT.chat(\n",
    "    user_msg=\"<img1> What is the main difference between this image and the previous images?\",\n",
    "    images=[\"../img/dog.png\"],\n",
    "    PRINT_USER_MSG=PRINT_USER_MSG,\n",
    "    PRINT_GPT_OUTPUT=PRINT_GPT_OUTPUT,\n",
    "    RESET_CHAT=RESET_CHAT,\n",
    "    RETURN_RESPONSE=RETURN_RESPONSE,\n",
    "    MAX_TOKENS = 256,\n",
    ")"
   ]
  },
  {
   "cell_type": "code",
   "execution_count": null,
   "id": "33745cde-30d7-4c24-a0b4-af5694810689",
   "metadata": {},
   "outputs": [],
   "source": []
  }
 ],
 "metadata": {
  "kernelspec": {
   "display_name": "Python 3 (ipykernel)",
   "language": "python",
   "name": "python3"
  },
  "language_info": {
   "codemirror_mode": {
    "name": "ipython",
    "version": 3
   },
   "file_extension": ".py",
   "mimetype": "text/x-python",
   "name": "python",
   "nbconvert_exporter": "python",
   "pygments_lexer": "ipython3",
   "version": "3.9.18"
  }
 },
 "nbformat": 4,
 "nbformat_minor": 5
}
