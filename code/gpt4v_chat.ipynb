{
 "cells": [
  {
   "cell_type": "markdown",
   "id": "13d89f04-bc1f-4a4d-9365-acb6fec0ac6b",
   "metadata": {},
   "source": [
    "### Chat with `GPT4V`"
   ]
  },
  {
   "cell_type": "code",
   "execution_count": 1,
   "id": "84fc2474-b8bd-4092-99aa-b03868501e96",
   "metadata": {},
   "outputs": [
    {
     "name": "stdout",
     "output_type": "stream",
     "text": [
      "openai version:[1.13.3]\n"
     ]
    }
   ],
   "source": [
    "import openai\n",
    "from gpt_helper import GPT4VchatClass\n",
    "print(\"openai version:[%s]\" % (openai.__version__))"
   ]
  },
  {
   "cell_type": "code",
   "execution_count": 2,
   "id": "b363ac68-059f-4c60-aba6-a8d5027bdb62",
   "metadata": {},
   "outputs": [
    {
     "data": {
      "text/html": [
       "<pre style=\"white-space:pre;overflow-x:auto;line-height:normal;font-family:Menlo,'DejaVu Sans Mono',consolas,'Courier New',monospace\"><span style=\"color: #008080; text-decoration-color: #008080; font-weight: bold\">key_path:[../key/rilab_key.txt]</span>\n",
       "</pre>\n"
      ],
      "text/plain": [
       "\u001b[1;36mkey_path:\u001b[0m\u001b[1;36m[\u001b[0m\u001b[1;36m..\u001b[0m\u001b[1;36m/key/\u001b[0m\u001b[1;36mrilab_key.txt\u001b[0m\u001b[1;36m]\u001b[0m\n"
      ]
     },
     "metadata": {},
     "output_type": "display_data"
    },
    {
     "data": {
      "text/html": [
       "<pre style=\"white-space:pre;overflow-x:auto;line-height:normal;font-family:Menlo,'DejaVu Sans Mono',consolas,'Courier New',monospace\"><span style=\"color: #008080; text-decoration-color: #008080; font-weight: bold\">Chat agent using  initialized with the follow role:[You are a helpful agent with vision capabilities; do not </span>\n",
       "<span style=\"color: #008080; text-decoration-color: #008080; font-weight: bold\">respond to objects not depicted in images.]</span>\n",
       "</pre>\n"
      ],
      "text/plain": [
       "\u001b[1;36mChat agent using \u001b[0m\u001b[1;36m initialized with the follow role:\u001b[0m\u001b[1;36m[\u001b[0m\u001b[1;36mYou are a helpful agent with vision capabilities; do not \u001b[0m\n",
       "\u001b[1;36mrespond to objects not depicted in images.\u001b[0m\u001b[1;36m]\u001b[0m\n"
      ]
     },
     "metadata": {},
     "output_type": "display_data"
    }
   ],
   "source": [
    "# Instantiate GPT4V helper\n",
    "GPT = GPT4VchatClass(\n",
    "    gpt_model = \"gpt-4o\", # \"gpt-4-vision-preview\",\n",
    "    role_msg  = \"You are a helpful agent with vision capabilities; do not respond to objects not depicted in images.\",\n",
    "    key_path  = \"../key/rilab_key.txt\",\n",
    ")"
   ]
  },
  {
   "cell_type": "markdown",
   "id": "697f8478-adae-4ebd-acfc-9c9e2b9aded7",
   "metadata": {},
   "source": [
    "### MuJoCo Living room\n",
    "\n",
    "<img src=\"../img/mujoco_living_room.png\" width=\"300\" />"
   ]
  },
  {
   "cell_type": "code",
   "execution_count": 3,
   "id": "52b948b3-8962-4a2e-8e2d-697683deba3f",
   "metadata": {},
   "outputs": [
    {
     "data": {
      "text/html": [
       "<pre style=\"white-space:pre;overflow-x:auto;line-height:normal;font-family:Menlo,'DejaVu Sans Mono',consolas,'Courier New',monospace\"><span style=\"color: #0087d7; text-decoration-color: #0087d7; font-weight: bold\">[</span><span style=\"color: #0087d7; text-decoration-color: #0087d7\">USER_MSG</span><span style=\"color: #0087d7; text-decoration-color: #0087d7; font-weight: bold\">]</span>\n",
       "</pre>\n"
      ],
      "text/plain": [
       "\u001b[1;38;5;32m[\u001b[0m\u001b[38;5;32mUSER_MSG\u001b[0m\u001b[1;38;5;32m]\u001b[0m\n"
      ]
     },
     "metadata": {},
     "output_type": "display_data"
    },
    {
     "data": {
      "text/markdown": [
       "<img1> Describe the image."
      ],
      "text/plain": [
       "<IPython.core.display.Markdown object>"
      ]
     },
     "metadata": {},
     "output_type": "display_data"
    },
    {
     "data": {
      "text/html": [
       "<pre style=\"white-space:pre;overflow-x:auto;line-height:normal;font-family:Menlo,'DejaVu Sans Mono',consolas,'Courier New',monospace\"><span style=\"color: #00875f; text-decoration-color: #00875f; font-weight: bold\">[</span><span style=\"color: #00875f; text-decoration-color: #00875f\">GPT_OUTPUT</span><span style=\"color: #00875f; text-decoration-color: #00875f; font-weight: bold\">]</span>\n",
       "</pre>\n"
      ],
      "text/plain": [
       "\u001b[1;38;5;29m[\u001b[0m\u001b[38;5;29mGPT_OUTPUT\u001b[0m\u001b[1;38;5;29m]\u001b[0m\n"
      ]
     },
     "metadata": {},
     "output_type": "display_data"
    },
    {
     "data": {
      "text/markdown": [
       "The image depicts a living room scene with a wooden parquet floor. In the room, there is a gray armchair with a basketball placed on it and a gray tufted sofa. A wooden coffee table is situated between the armchair and the sofa, on which a small, animated character is standing in the middle of a circular area with a few greenish-blue orbs floating around the character. There are two people standing to the right of the coffee table, observing the animated character."
      ],
      "text/plain": [
       "<IPython.core.display.Markdown object>"
      ]
     },
     "metadata": {},
     "output_type": "display_data"
    }
   ],
   "source": [
    "GPT.chat(\n",
    "    user_msg = \"<img1> Describe the image.\",\n",
    "    images   = [\"../img/mujoco_living_room.png\"],\n",
    "    PRINT_USER_MSG   = True,\n",
    "    PRINT_GPT_OUTPUT = True,\n",
    "    RESET_CHAT       = False,\n",
    "    RETURN_RESPONSE  = False,\n",
    "    MAX_TOKENS = 512,\n",
    ")"
   ]
  },
  {
   "cell_type": "code",
   "execution_count": 4,
   "id": "f55c8148-56cd-4b8c-a3f0-19eaff657b67",
   "metadata": {},
   "outputs": [
    {
     "data": {
      "text/html": [
       "<pre style=\"white-space:pre;overflow-x:auto;line-height:normal;font-family:Menlo,'DejaVu Sans Mono',consolas,'Courier New',monospace\"><span style=\"color: #0087d7; text-decoration-color: #0087d7; font-weight: bold\">[</span><span style=\"color: #0087d7; text-decoration-color: #0087d7\">USER_MSG</span><span style=\"color: #0087d7; text-decoration-color: #0087d7; font-weight: bold\">]</span>\n",
       "</pre>\n"
      ],
      "text/plain": [
       "\u001b[1;38;5;32m[\u001b[0m\u001b[38;5;32mUSER_MSG\u001b[0m\u001b[1;38;5;32m]\u001b[0m\n"
      ]
     },
     "metadata": {},
     "output_type": "display_data"
    },
    {
     "data": {
      "text/markdown": [
       "Why do you think the image is rendered from a simulator?"
      ],
      "text/plain": [
       "<IPython.core.display.Markdown object>"
      ]
     },
     "metadata": {},
     "output_type": "display_data"
    },
    {
     "data": {
      "text/html": [
       "<pre style=\"white-space:pre;overflow-x:auto;line-height:normal;font-family:Menlo,'DejaVu Sans Mono',consolas,'Courier New',monospace\"><span style=\"color: #00875f; text-decoration-color: #00875f; font-weight: bold\">[</span><span style=\"color: #00875f; text-decoration-color: #00875f\">GPT_OUTPUT</span><span style=\"color: #00875f; text-decoration-color: #00875f; font-weight: bold\">]</span>\n",
       "</pre>\n"
      ],
      "text/plain": [
       "\u001b[1;38;5;29m[\u001b[0m\u001b[38;5;29mGPT_OUTPUT\u001b[0m\u001b[1;38;5;29m]\u001b[0m\n"
      ]
     },
     "metadata": {},
     "output_type": "display_data"
    },
    {
     "data": {
      "text/markdown": [
       "Several elements suggest that the image is rendered from a simulator or is computer-generated:\n",
       "\n",
       "1. **Character Design**: The small animated character standing on the coffee table has a cartoonish, stylized appearance that is typical of computer graphics.\n",
       "\n",
       "2. **Floating Orbs**: The greenish-blue orbs floating around the animated character enhance the impression of a simulated environment.\n",
       "\n",
       "3. **Lighting and Shadows**: The lighting and shadows in the image appear uniform and artificial, characteristic of computer-rendered images rather than natural photography.\n",
       "\n",
       "4. **Textures and Surfaces**: The textures, such as the smoothness of the furniture and the consistency of the floor pattern, are very clean and precise, a common trait in digital simulations.\n",
       "\n",
       "5. **Human Figures**: The two people have a slightly rigid posture and a lack of fine detail that is often seen in computer-generated models rather than real-life photographs.\n",
       "\n",
       "These features collectively suggest that the image is not a real-world photo but rather created using simulation or rendering software."
      ],
      "text/plain": [
       "<IPython.core.display.Markdown object>"
      ]
     },
     "metadata": {},
     "output_type": "display_data"
    }
   ],
   "source": [
    "GPT.chat(\n",
    "    user_msg = \"Why do you think the image is rendered from a simulator?\",\n",
    "    images   = None,\n",
    "    PRINT_USER_MSG   = True,\n",
    "    PRINT_GPT_OUTPUT = True,\n",
    "    RESET_CHAT       = False,\n",
    "    RETURN_RESPONSE  = False,\n",
    "    MAX_TOKENS = 256,\n",
    ")"
   ]
  },
  {
   "cell_type": "code",
   "execution_count": null,
   "id": "6a529141-647c-4796-9a7d-978e183d04e8",
   "metadata": {},
   "outputs": [],
   "source": []
  },
  {
   "cell_type": "code",
   "execution_count": 5,
   "id": "6c4f9678-0d04-4b00-9512-cd57c181dcc0",
   "metadata": {},
   "outputs": [
    {
     "name": "stdout",
     "output_type": "stream",
     "text": [
      "Done.\n"
     ]
    }
   ],
   "source": [
    "GPT.reset()\n",
    "print (\"Done.\")"
   ]
  },
  {
   "cell_type": "markdown",
   "id": "ddbbae7a-aba9-45af-b494-862f753a4c37",
   "metadata": {},
   "source": [
    "### cat image\n",
    "<img src=\"../img/cat.png\" width=\"300\" />"
   ]
  },
  {
   "cell_type": "code",
   "execution_count": 6,
   "id": "9176daf3-c6bd-4cf6-a4bd-10a06eb4f502",
   "metadata": {},
   "outputs": [
    {
     "data": {
      "text/html": [
       "<pre style=\"white-space:pre;overflow-x:auto;line-height:normal;font-family:Menlo,'DejaVu Sans Mono',consolas,'Courier New',monospace\"><span style=\"color: #0087d7; text-decoration-color: #0087d7; font-weight: bold\">[</span><span style=\"color: #0087d7; text-decoration-color: #0087d7\">USER_MSG</span><span style=\"color: #0087d7; text-decoration-color: #0087d7; font-weight: bold\">]</span>\n",
       "</pre>\n"
      ],
      "text/plain": [
       "\u001b[1;38;5;32m[\u001b[0m\u001b[38;5;32mUSER_MSG\u001b[0m\u001b[1;38;5;32m]\u001b[0m\n"
      ]
     },
     "metadata": {},
     "output_type": "display_data"
    },
    {
     "data": {
      "text/markdown": [
       "<img1> Describe the image."
      ],
      "text/plain": [
       "<IPython.core.display.Markdown object>"
      ]
     },
     "metadata": {},
     "output_type": "display_data"
    },
    {
     "data": {
      "text/html": [
       "<pre style=\"white-space:pre;overflow-x:auto;line-height:normal;font-family:Menlo,'DejaVu Sans Mono',consolas,'Courier New',monospace\"><span style=\"color: #00875f; text-decoration-color: #00875f; font-weight: bold\">[</span><span style=\"color: #00875f; text-decoration-color: #00875f\">GPT_OUTPUT</span><span style=\"color: #00875f; text-decoration-color: #00875f; font-weight: bold\">]</span>\n",
       "</pre>\n"
      ],
      "text/plain": [
       "\u001b[1;38;5;29m[\u001b[0m\u001b[38;5;29mGPT_OUTPUT\u001b[0m\u001b[1;38;5;29m]\u001b[0m\n"
      ]
     },
     "metadata": {},
     "output_type": "display_data"
    },
    {
     "data": {
      "text/markdown": [
       "The image shows a cute fluffy kitten sitting against a solid light blue background. The kitten has a fur coat of light brown, cream, and white colors, and its ears are perked up. The kitten is raising one of its front paws upwards as if reaching for something or waving. Its eyes are looking upwards, following the direction of its raised paw. The overall appearance of the kitten and the background give a clean, minimalist feel to the photograph."
      ],
      "text/plain": [
       "<IPython.core.display.Markdown object>"
      ]
     },
     "metadata": {},
     "output_type": "display_data"
    }
   ],
   "source": [
    "GPT.chat(\n",
    "    user_msg = \"<img1> Describe the image.\",\n",
    "    images   = [\"../img/cat.png\"],\n",
    "    PRINT_USER_MSG   = True,\n",
    "    PRINT_GPT_OUTPUT = True,\n",
    "    RESET_CHAT       = False,\n",
    "    RETURN_RESPONSE  = False,\n",
    "    MAX_TOKENS = 512,\n",
    ")"
   ]
  },
  {
   "cell_type": "code",
   "execution_count": 7,
   "id": "93a061a0-7bbb-4ed0-ac8d-78af4e3d53b2",
   "metadata": {},
   "outputs": [
    {
     "data": {
      "text/html": [
       "<pre style=\"white-space:pre;overflow-x:auto;line-height:normal;font-family:Menlo,'DejaVu Sans Mono',consolas,'Courier New',monospace\"><span style=\"color: #0087d7; text-decoration-color: #0087d7; font-weight: bold\">[</span><span style=\"color: #0087d7; text-decoration-color: #0087d7\">USER_MSG</span><span style=\"color: #0087d7; text-decoration-color: #0087d7; font-weight: bold\">]</span>\n",
       "</pre>\n"
      ],
      "text/plain": [
       "\u001b[1;38;5;32m[\u001b[0m\u001b[38;5;32mUSER_MSG\u001b[0m\u001b[1;38;5;32m]\u001b[0m\n"
      ]
     },
     "metadata": {},
     "output_type": "display_data"
    },
    {
     "data": {
      "text/markdown": [
       "What is the color of the background?"
      ],
      "text/plain": [
       "<IPython.core.display.Markdown object>"
      ]
     },
     "metadata": {},
     "output_type": "display_data"
    },
    {
     "data": {
      "text/html": [
       "<pre style=\"white-space:pre;overflow-x:auto;line-height:normal;font-family:Menlo,'DejaVu Sans Mono',consolas,'Courier New',monospace\"><span style=\"color: #00875f; text-decoration-color: #00875f; font-weight: bold\">[</span><span style=\"color: #00875f; text-decoration-color: #00875f\">GPT_OUTPUT</span><span style=\"color: #00875f; text-decoration-color: #00875f; font-weight: bold\">]</span>\n",
       "</pre>\n"
      ],
      "text/plain": [
       "\u001b[1;38;5;29m[\u001b[0m\u001b[38;5;29mGPT_OUTPUT\u001b[0m\u001b[1;38;5;29m]\u001b[0m\n"
      ]
     },
     "metadata": {},
     "output_type": "display_data"
    },
    {
     "data": {
      "text/markdown": [
       "The background color in the image is a solid light blue."
      ],
      "text/plain": [
       "<IPython.core.display.Markdown object>"
      ]
     },
     "metadata": {},
     "output_type": "display_data"
    }
   ],
   "source": [
    "GPT.chat(\n",
    "    user_msg = \"What is the color of the background?\",\n",
    "    images   = None,\n",
    "    PRINT_USER_MSG   = True,\n",
    "    PRINT_GPT_OUTPUT = True,\n",
    "    RESET_CHAT       = False,\n",
    "    RETURN_RESPONSE  = False,\n",
    "    MAX_TOKENS = 512,\n",
    ")"
   ]
  },
  {
   "cell_type": "markdown",
   "id": "dc52ffca-90bd-4f98-ab90-3a5e1215719c",
   "metadata": {},
   "source": [
    "### dog image\n",
    "<img src=\"../img/dog.png\" width=\"300\" />"
   ]
  },
  {
   "cell_type": "code",
   "execution_count": 8,
   "id": "6b968897-3ee3-417a-968d-fae4a662c856",
   "metadata": {},
   "outputs": [
    {
     "data": {
      "text/html": [
       "<pre style=\"white-space:pre;overflow-x:auto;line-height:normal;font-family:Menlo,'DejaVu Sans Mono',consolas,'Courier New',monospace\"><span style=\"color: #0087d7; text-decoration-color: #0087d7; font-weight: bold\">[</span><span style=\"color: #0087d7; text-decoration-color: #0087d7\">USER_MSG</span><span style=\"color: #0087d7; text-decoration-color: #0087d7; font-weight: bold\">]</span>\n",
       "</pre>\n"
      ],
      "text/plain": [
       "\u001b[1;38;5;32m[\u001b[0m\u001b[38;5;32mUSER_MSG\u001b[0m\u001b[1;38;5;32m]\u001b[0m\n"
      ]
     },
     "metadata": {},
     "output_type": "display_data"
    },
    {
     "data": {
      "text/markdown": [
       "<img1> What is the main difference between this image and the previous images?"
      ],
      "text/plain": [
       "<IPython.core.display.Markdown object>"
      ]
     },
     "metadata": {},
     "output_type": "display_data"
    },
    {
     "data": {
      "text/html": [
       "<pre style=\"white-space:pre;overflow-x:auto;line-height:normal;font-family:Menlo,'DejaVu Sans Mono',consolas,'Courier New',monospace\"><span style=\"color: #00875f; text-decoration-color: #00875f; font-weight: bold\">[</span><span style=\"color: #00875f; text-decoration-color: #00875f\">GPT_OUTPUT</span><span style=\"color: #00875f; text-decoration-color: #00875f; font-weight: bold\">]</span>\n",
       "</pre>\n"
      ],
      "text/plain": [
       "\u001b[1;38;5;29m[\u001b[0m\u001b[38;5;29mGPT_OUTPUT\u001b[0m\u001b[1;38;5;29m]\u001b[0m\n"
      ]
     },
     "metadata": {},
     "output_type": "display_data"
    },
    {
     "data": {
      "text/markdown": [
       "The main difference between the two images is the subject. The first image features a kitten, while the second image features a dog. Additionally, the background colors are different: the first image has a light blue background, whereas the second image has a light pink background."
      ],
      "text/plain": [
       "<IPython.core.display.Markdown object>"
      ]
     },
     "metadata": {},
     "output_type": "display_data"
    }
   ],
   "source": [
    "GPT.chat(\n",
    "    user_msg = \"<img1> What is the main difference between this image and the previous images?\",\n",
    "    images   = [\"../img/dog.png\"],\n",
    "    PRINT_USER_MSG   = True,\n",
    "    PRINT_GPT_OUTPUT = True,\n",
    "    RESET_CHAT       = False,\n",
    "    RETURN_RESPONSE  = False,\n",
    "    MAX_TOKENS = 512,\n",
    ")"
   ]
  },
  {
   "cell_type": "code",
   "execution_count": null,
   "id": "33745cde-30d7-4c24-a0b4-af5694810689",
   "metadata": {},
   "outputs": [],
   "source": []
  }
 ],
 "metadata": {
  "kernelspec": {
   "display_name": "Python 3 (ipykernel)",
   "language": "python",
   "name": "python3"
  },
  "language_info": {
   "codemirror_mode": {
    "name": "ipython",
    "version": 3
   },
   "file_extension": ".py",
   "mimetype": "text/x-python",
   "name": "python",
   "nbconvert_exporter": "python",
   "pygments_lexer": "ipython3",
   "version": "3.9.18"
  }
 },
 "nbformat": 4,
 "nbformat_minor": 5
}
